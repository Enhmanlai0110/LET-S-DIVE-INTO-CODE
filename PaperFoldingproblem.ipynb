{
  "nbformat": 4,
  "nbformat_minor": 0,
  "metadata": {
    "colab": {
      "provenance": [],
      "authorship_tag": "ABX9TyPt8nOargEuKfNSJvOFXmlN",
      "include_colab_link": true
    },
    "kernelspec": {
      "name": "python3",
      "display_name": "Python 3"
    },
    "language_info": {
      "name": "python"
    }
  },
  "cells": [
    {
      "cell_type": "markdown",
      "metadata": {
        "id": "view-in-github",
        "colab_type": "text"
      },
      "source": [
        "<a href=\"https://colab.research.google.com/github/Enhmanlai0110/LET-S-DIVE-INTO-CODE/blob/main/PaperFoldingproblem.ipynb\" target=\"_parent\"><img src=\"https://colab.research.google.com/assets/colab-badge.svg\" alt=\"Open In Colab\"/></a>"
      ]
    },
    {
      "cell_type": "markdown",
      "source": [
        "[Problem 1] Implementation using exponentiation arithmetic operators\n",
        "Create a program that uses the exponentiation arithmetic operator.\n",
        "As a template, we have prepared a code that calculates the thickness of a sheet of paper when it is folded once. \n",
        "Rewrite the code to calculate the thickness when the paper is folded 43 times."
      ],
      "metadata": {
        "id": "7cyS5uqFyAcW"
      }
    },
    {
      "cell_type": "code",
      "execution_count": 5,
      "metadata": {
        "colab": {
          "base_uri": "https://localhost:8080/"
        },
        "id": "TAWG88Shk-5R",
        "outputId": "1ea8a80b-6bdf-446d-8686-0847e20a8566"
      },
      "outputs": [
        {
          "output_type": "stream",
          "name": "stdout",
          "text": [
            "Thickness: 703687441.77664 meters\n"
          ]
        }
      ],
      "source": [
        "\n",
        "THICKNESS = 0.00008\n",
        "\n",
        "folded_thickness = THICKNESS * (2**43)\n",
        "\n",
        "print(\"Thickness: {} meters\".format(folded_thickness))"
      ]
    },
    {
      "cell_type": "markdown",
      "source": [
        "[Problem 2] Unit Conversion\n",
        "If the unit is meters, it's hard to feel the difference, so please convert the unit to ◯◯ 10,000 kilometers and display it.\n",
        "\n",
        "​We have prepared a code converted to ◯◯ kilometers as a sample, so please refer to it when working on it. It is specified that up to 2 digits are displayed after the decimal point."
      ],
      "metadata": {
        "id": "873CpQcomsdu"
      }
    },
    {
      "cell_type": "code",
      "source": [
        "print(\"Thickness: {: .2f} kilometers\".format(folded_thickness / 10000))"
      ],
      "metadata": {
        "colab": {
          "base_uri": "https://localhost:8080/"
        },
        "id": "Ic5-6CFbmw35",
        "outputId": "af423c91-191f-457f-ed09-f324f1d05d9e"
      },
      "execution_count": 7,
      "outputs": [
        {
          "output_type": "stream",
          "name": "stdout",
          "text": [
            "Thickness:  70368.74 kilometers\n"
          ]
        }
      ]
    },
    {
      "cell_type": "markdown",
      "source": [
        "[Problem 3] Create using a for statement\n",
        "Next, create a program that uses the for statement.\n",
        "\n",
        "Do not use exponentiation arithmetic operators. Only the four arithmetic operations+ , - , * , / ) are allowed."
      ],
      "metadata": {
        "id": "P51B3TP2m2m9"
      }
    },
    {
      "cell_type": "code",
      "source": [
        "THICKNESS = 0.00008\n",
        "for i in range(43):\n",
        "  THICKNESS = THICKNESS * 2\n",
        "\n",
        "print(\"Thickness: {: .2f} kilometers\".format(THICKNESS / 1000))"
      ],
      "metadata": {
        "colab": {
          "base_uri": "https://localhost:8080/"
        },
        "id": "iiAFlo1lnaa3",
        "outputId": "a290d839-e417-4d8c-ef2f-11ea38d57683"
      },
      "execution_count": 11,
      "outputs": [
        {
          "output_type": "stream",
          "name": "stdout",
          "text": [
            "Thickness:  703687.44 kilometers\n"
          ]
        }
      ]
    },
    {
      "cell_type": "markdown",
      "source": [
        "[Question 4] Comparison of calculation time\n",
        "Both of the above two methods are correct, but when comparing the goodness of the code, it is evaluated in the following points, for example.\n",
        "\n",
        "execution speed\n",
        "memory usage\n",
        "readability\n",
        "Scalability\n",
        "reusability\n",
        "Now let's compare the execution speed.\n",
        "\n",
        "Use the template below to print the execution times of the two methods and compare them. Compare the range of times excluding the parts that are used in either method, such as variable definitions and printstatements."
      ],
      "metadata": {
        "id": "DBOyXpfqpavJ"
      }
    },
    {
      "cell_type": "code",
      "source": [
        "import time\n",
        "start = time.time()\n",
        "THICKNESS = 0.00008\n",
        "\n",
        "folded_thickness = THICKNESS * (2**43)\n",
        "\n",
        "print(\"Thickness: {} meters\".format(folded_thickness))\n",
        "elapsed_time = time.time() - start\n",
        "print(\"time : {}[s]\".format(elapsed_time))"
      ],
      "metadata": {
        "colab": {
          "base_uri": "https://localhost:8080/"
        },
        "id": "J8jwpVDGqn5A",
        "outputId": "3d1b4674-e3c8-4c66-ee31-8f625c680b32"
      },
      "execution_count": 12,
      "outputs": [
        {
          "output_type": "stream",
          "name": "stdout",
          "text": [
            "Thickness: 703687441.77664 meters\n",
            "time : 0.0010144710540771484[s]\n"
          ]
        }
      ]
    },
    {
      "cell_type": "code",
      "source": [
        "import time\n",
        "start = time.time()\n",
        "for i in range(43):\n",
        "  THICKNESS = THICKNESS * 2\n",
        "\n",
        "print(\"Thickness: {: .2f} kilometers\".format(THICKNESS / 1000))\n",
        "elapsed_time = time.time() - start\n",
        "print(\"time : {}[s]\".format(elapsed_time))"
      ],
      "metadata": {
        "colab": {
          "base_uri": "https://localhost:8080/"
        },
        "id": "OcT-uWMvqwvz",
        "outputId": "b84f458f-55fb-4308-8c85-2115a601a13d"
      },
      "execution_count": 13,
      "outputs": [
        {
          "output_type": "stream",
          "name": "stdout",
          "text": [
            "Thickness:  703687.44 kilometers\n",
            "time : 0.00304412841796875[s]\n"
          ]
        }
      ]
    },
    {
      "cell_type": "markdown",
      "source": [
        "[Problem 5] Saving to a list\n",
        "So far we've only used the final value after 43 diffractions, but we also need the process value to visualize it on the graph. Add code that records a total of 44 values ​​in the process to the code using the for statement."
      ],
      "metadata": {
        "id": "8q6v6beFu9AP"
      }
    },
    {
      "cell_type": "code",
      "source": [
        "t_0=0.00008\n",
        "t=[]\n",
        "for n in range(44):\n",
        "  t.append([t_0 * 2**n])\n",
        "print(len(t))\n",
        "print(t[-1])"
      ],
      "metadata": {
        "colab": {
          "base_uri": "https://localhost:8080/"
        },
        "id": "Bvwrxx4Gr1cR",
        "outputId": "fd5cf23d-da85-44e3-f005-dd4ddc21dfa5"
      },
      "execution_count": 25,
      "outputs": [
        {
          "output_type": "stream",
          "name": "stdout",
          "text": [
            "44\n",
            "[703687441.77664]\n"
          ]
        }
      ]
    },
    {
      "cell_type": "markdown",
      "source": [
        "[Problem 6] Displaying a line graph\n",
        "Alibrary called Matplotlib is used for drawing graphs . Use the following template behind the code that records to the list."
      ],
      "metadata": {
        "id": "J4sIEhW4vEO4"
      }
    },
    {
      "cell_type": "code",
      "source": [
        "import matplotlib.pyplot as plt\n",
        "%matplotlib inline\n",
        "\n",
        "# Display the graph. Title and axis label name.\n",
        "plt.title(\"thickness of folded paper\")\n",
        "plt.xlabel(\"number of folds\")\n",
        "plt.ylabel(\"thickness [m]\")\n",
        "plt.plot(t)  # Enter the variable name of the list in \"List name\"\n",
        "plt.show()"
      ],
      "metadata": {
        "colab": {
          "base_uri": "https://localhost:8080/",
          "height": 295
        },
        "id": "dQhty_2IvHtn",
        "outputId": "6ab64b6d-0212-4bac-9add-2e3d6ac9d65b"
      },
      "execution_count": 26,
      "outputs": [
        {
          "output_type": "display_data",
          "data": {
            "text/plain": [
              "<Figure size 432x288 with 1 Axes>"
            ],
            "image/png": "[encoded data removed]"
          },
          "metadata": {
            "needs_background": "light"
          }
        }
      ]
    },
    {
      "cell_type": "markdown",
      "source": [
        "[Question 7] Customizing the graph\n",
        "Let's customize the graph to make it easier to see. Create at least 3 customized charts. For example, you can change the color of the line to red by rewriting as follows."
      ],
      "metadata": {
        "id": "LrilkDgBvfdg"
      }
    },
    {
      "cell_type": "code",
      "source": [
        "plt.title(\"thickness of folded paper\")\n",
        "plt.xlabel(\"number of folds\")\n",
        "plt.ylabel(\"thickness [m]\")\n",
        "plt.plot(t, color='green', marker='o', linestyle='dashdot',\n",
        "     linewidth=1, markersize=4)\n",
        "plt.show()"
      ],
      "metadata": {
        "colab": {
          "base_uri": "https://localhost:8080/",
          "height": 295
        },
        "id": "t30PwxBsv-T2",
        "outputId": "d17961d4-226e-4221-983e-aa8fd27fc047"
      },
      "execution_count": 31,
      "outputs": [
        {
          "output_type": "display_data",
          "data": {
            "text/plain": [
              "<Figure size 432x288 with 1 Axes>"
            ],
            "image/png": "[encoded data removed]"
          },
          "metadata": {
            "needs_background": "light"
          }
        }
      ]
    }
  ]
}