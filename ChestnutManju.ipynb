{
  "nbformat": 4,
  "nbformat_minor": 0,
  "metadata": {
    "colab": {
      "provenance": [],
      "authorship_tag": "ABX9TyNP5P1NT6HTSq6T13NKG2gI",
      "include_colab_link": true
    },
    "kernelspec": {
      "name": "python3",
      "display_name": "Python 3"
    },
    "language_info": {
      "name": "python"
    }
  },
  "cells": [
    {
      "cell_type": "markdown",
      "metadata": {
        "id": "view-in-github",
        "colab_type": "text"
      },
      "source": [
        "<a href=\"https://colab.research.google.com/github/Enhmanlai0110/LET-S-DIVE-INTO-CODE/blob/main/ChestnutManju.ipynb\" target=\"_parent\"><img src=\"https://colab.research.google.com/assets/colab-badge.svg\" alt=\"Open In Colab\"/></a>"
      ]
    },
    {
      "cell_type": "markdown",
      "source": [
        "[Problem] The day when chestnut buns cover the solar system\n",
        "If you sprinkle a single chestnut bun with vine, how long will it take to cover the solar system with chestnut buns? Create a program to calculate this.\n",
        "\n",
        "Make assumptions about the volume of the chestnut buns and the solar system based on your research and calculations. You may simplify the problem by not considering the gap between the chestnut buns and gravity.\n",
        "\n",
        "Create a generic program that can be applied to other situations, such as the time it takes for the Tokyo Dome to fill up when you sprinkle a ball with Byvine. Also, please create a notebook that is easy to understand, e.g., display a graph."
      ],
      "metadata": {
        "id": "LIvI44Oi3F2k"
      }
    },
    {
      "cell_type": "code",
      "execution_count": 1,
      "metadata": {
        "colab": {
          "base_uri": "https://localhost:8080/",
          "height": 350
        },
        "id": "nddbI6juj1JS",
        "outputId": "63b949ff-0c75-4be7-daea-e2fa1a0bb9db"
      },
      "outputs": [
        {
          "output_type": "stream",
          "name": "stdout",
          "text": [
            "It will spend 700 minutes \n"
          ]
        },
        {
          "output_type": "display_data",
          "data": {
            "text/plain": [
              "<Figure size 432x288 with 1 Axes>"
            ],
            "image/png": "[encoded data removed]"
          },
          "metadata": {
            "needs_background": "light"
          }
        },
        {
          "output_type": "stream",
          "name": "stdout",
          "text": [
            "[3.74e-13, 7.48e-13, 1.496e-12, 2.992e-12, 5.984e-12, 1.1968e-11, 2.3936e-11, 4.7872e-11, 9.5744e-11, 1.91488e-10, 3.82976e-10, 7.65952e-10, 1.531904e-09, 3.063808e-09, 6.127616e-09, 1.2255232e-08, 2.4510464e-08, 4.9020928e-08, 9.8041856e-08, 1.96083712e-07, 3.92167424e-07, 7.84334848e-07, 1.568669696e-06, 3.137339392e-06, 6.274678784e-06, 1.2549357568e-05, 2.5098715136e-05, 5.0197430272e-05, 0.000100394860544, 0.000200789721088, 0.000401579442176, 0.000803158884352, 0.001606317768704, 0.003212635537408, 0.006425271074816, 0.012850542149632, 0.025701084299264, 0.051402168598528, 0.102804337197056, 0.205608674394112, 0.411217348788224, 0.822434697576448, 1.644869395152896, 3.289738790305792, 6.579477580611584, 13.158955161223169, 26.317910322446338, 52.635820644892675, 105.27164128978535, 210.5432825795707, 421.0865651591414, 842.1731303182828, 1684.3462606365656, 3368.692521273131, 6737.385042546262, 13474.770085092525, 26949.54017018505, 53899.0803403701, 107798.1606807402, 215596.3213614804, 431192.6427229608, 862385.2854459216, 1724770.5708918432, 3449541.1417836864, 6899082.283567373, 13798164.567134745, 27596329.13426949, 55192658.26853898, 110385316.53707796, 220770633.07415593, 441541266.14831185, 883082532.2966237, 1766165064.5932474, 3532330129.186495, 7064660258.37299, 14129320516.74598, 28258641033.49196, 56517282066.98392, 113034564133.96783, 226069128267.93567, 452138256535.87134, 904276513071.7427, 1808553026143.4854, 3617106052286.9707, 7234212104573.941, 14468424209147.883, 28936848418295.766, 57873696836591.53, 115747393673183.06, 231494787346366.12, 462989574692732.25, 925979149385464.5, 1851958298770929.0, 3703916597541858.0, 7407833195083716.0, 1.4815666390167432e+16, 2.9631332780334864e+16, 5.926266556066973e+16, 1.1852533112133946e+17, 2.370506622426789e+17, 4.741013244853578e+17, 9.482026489707156e+17, 1.8964052979414313e+18, 3.7928105958828626e+18, 7.585621191765725e+18, 1.517124238353145e+19, 3.03424847670629e+19, 6.06849695341258e+19, 1.213699390682516e+20, 2.427398781365032e+20, 4.854797562730064e+20, 9.709595125460128e+20, 1.9419190250920256e+21, 3.8838380501840513e+21, 7.767676100368103e+21, 1.5535352200736205e+22, 3.107070440147241e+22, 6.214140880294482e+22, 1.2428281760588964e+23, 2.4856563521177928e+23, 4.9713127042355857e+23, 9.942625408471171e+23, 1.9885250816942343e+24, 3.9770501633884685e+24, 7.954100326776937e+24, 1.5908200653553874e+25, 3.181640130710775e+25, 6.36328026142155e+25, 1.27265605228431e+26, 2.54531210456862e+26, 5.09062420913724e+26, 1.018124841827448e+27, 2.036249683654896e+27, 4.072499367309792e+27, 8.144998734619584e+27, 1.6289997469239167e+28, 3.2579994938478334e+28, 6.515998987695667e+28, 1.3031997975391334e+29, 2.6063995950782667e+29]\n"
          ]
        }
      ],
      "source": [
        "import math \n",
        "import matplotlib.pyplot as plt\n",
        "import numpy as np\n",
        "\n",
        "\n",
        "def HowManyMinutesNeed(volume,space_to_fill):\n",
        "  '''\n",
        "  A function that calculates how many minutes need to fill your desired volume \n",
        "  Parameters:\n",
        "  ---------\n",
        "\n",
        "  n = How many time you need multiply\n",
        "\n",
        "  volume = volume of our object\n",
        "\n",
        "  space_to_fill = volume of the volume you want to fill\n",
        "\n",
        "  Return: \n",
        "  ---------\n",
        "\n",
        "  t: How many minutes will it take\n",
        "\n",
        "  list_of_raise: list of raised buns \n",
        "  \n",
        "  '''\n",
        "  k=volume\n",
        "  list_of_raise=[]\n",
        "  n=0\n",
        "  while volume < space_to_fill:\n",
        "    volume=volume*2\n",
        "    list_of_raise.append(volume)\n",
        "    n=n+1\n",
        "  t=n*5\n",
        "  #for i in range(n):\n",
        "    #list_of_raise.append(k*2**i)\n",
        "  return t, n, list_of_raise\n",
        "\n",
        "\n",
        "def Find_volume_of_circle(radius):\n",
        "  '''\n",
        "  This function calculates volume of circle\n",
        "  Because according with my research solar systems radius is 4.545 billion and i need find volume of solar system.\n",
        "  '''\n",
        "  volume=(radius**3)*(3/4)*math.pi\n",
        "  return volume\n",
        "\n",
        "radius=4.545*10**9 \n",
        "volume= 1.87*10**-13 ##This is volume of apple and i dont know chestnut bun. And i decided to replaced by i used \n",
        "space_to_fill= Find_volume_of_circle(radius)\n",
        "t, n,  list_of_raise =  HowManyMinutesNeed(volume,space_to_fill)\n",
        "print('It will spend {} minutes '.format(t))\n",
        "plt.title(\"raise of chestnt bun\")\n",
        "plt.xlabel(\"number of minutes\")\n",
        "plt.ylabel(\"chestnut bun\")\n",
        "plt.plot(list_of_raise)\n",
        "plt.show()\n"
      ]
    },
    {
      "cell_type": "code",
      "source": [],
      "metadata": {
        "id": "CDPP7dxQlu5Z"
      },
      "execution_count": null,
      "outputs": []
    }
  ]
}